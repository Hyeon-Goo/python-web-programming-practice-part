{
 "cells": [
  {
   "cell_type": "markdown",
   "source": [
    "1장의 내용에는 딱히 코드라 할만한게 없다.\n",
    "몇가지 설치사항만 있을 뿐.\n"
   ],
   "metadata": {
    "collapsed": false,
    "pycharm": {
     "name": "#%% md\n"
    }
   }
  },
  {
   "cell_type": "markdown",
   "metadata": {
    "collapsed": true,
    "pycharm": {
     "name": "#%% md\n"
    }
   },
   "source": [
    "# 1장"
   ]
  },
  {
   "cell_type": "markdown",
   "source": [
    "## 1.1 장고 개발의 기본 사항"
   ],
   "metadata": {
    "collapsed": false,
    "pycharm": {
     "name": "#%% md\n"
    }
   }
  },
  {
   "cell_type": "markdown",
   "source": [
    "### 1.1.1 MVT 개발 방식"
   ],
   "metadata": {
    "collapsed": false,
    "pycharm": {
     "name": "#%% md\n"
    }
   }
  },
  {
   "cell_type": "markdown",
   "source": [
    "MVC와 거의 비슷한 개념.\n",
    "M: 테이블을 정의\n",
    "V: 제어 흐름 및 처리 로직 정의\n",
    "T: 사용자가 보게될 화면의 모습을 정의."
   ],
   "metadata": {
    "collapsed": false,
    "pycharm": {
     "name": "#%% md\n"
    }
   }
  },
  {
   "cell_type": "markdown",
   "source": [
    "### 1.1.2 MVT 개발 순서"
   ],
   "metadata": {
    "collapsed": false
   }
  },
  {
   "cell_type": "markdown",
   "source": [
    "정해진 순서는 없음.\n",
    "일반적으로 테이블 설계후 반영되는 모델이 먼저고, 그에 영향을 받는 뷰와 템플릿 코딩이 그 다음.\n",
    "\n",
    "책에서는 MVT 순서 그대로 진행할 예정임. 정확한 순서는 아래 숫자대로.\n",
    "1. 프로젝트 뼈대 만들기.\n",
    "2. 모델 정의 및 코딩\n",
    "3. URLConf 코딩\n",
    "4. 뷰 코딩\n",
    "5. 템플릿 코딩."
   ],
   "metadata": {
    "collapsed": false
   }
  },
  {
   "cell_type": "markdown",
   "source": [
    "### 1.1.3 settings.py 주요사항"
   ],
   "metadata": {
    "collapsed": false
   }
  },
  {
   "cell_type": "markdown",
   "source": [
    "settings.py는 프로젝트 설정 파일.\n",
    "\n",
    "프로젝트 개발 시 필수 사항이 있음.\n",
    "\n",
    "> - 데이터베이스 설정\n",
    ">   > 디폴트로 SQLLite3로 되어 있음. 책에서는 이대로 가지만, 나는 PostgresQL 사용할 예정.\n",
    "> - 애플리케이션 등록\n",
    ">   > 개발하는 앱은 모두 설정 파일에 등록되어 있어야 함.\n",
    "> - 템플릿 항목 설정\n",
    ">   > TEMPLATES 항목으로 지정\n",
    "> - 정적 파일 항목 설정\n",
    ">   > STATIC_URL 등 관련 항목을 지정.\n",
    "> - 타임존 지정\n",
    ">   > 최초에는 세계 표준시로 설정되어 있는데 한국 시간으로 변경.\n",
    "\n",
    "\n",
    "그 외에도 다양한 설정 요소들이 있음.\n"
   ],
   "metadata": {
    "collapsed": false,
    "pycharm": {
     "name": "#%% md\n"
    }
   }
  },
  {
   "cell_type": "markdown",
   "source": [
    "\n",
    "### 1.1.4 models.py 주요사항"
   ],
   "metadata": {
    "collapsed": false,
    "pycharm": {
     "name": "#%% md\n"
    }
   }
  },
  {
   "cell_type": "markdown",
   "source": [
    "테이블을 정의하는 파일. 사랑스러운 ORM을 사용중.\n",
    "makemigrations, migrate 사용해야 적용됨.\n",
    "(자주 쓰는 Djongo는 딱히 필요하진 않으나, schema를 강제하고 싶다면 해주면 좋다.)"
   ],
   "metadata": {
    "collapsed": false,
    "pycharm": {
     "name": "#%% md\n"
    }
   }
  },
  {
   "cell_type": "markdown",
   "source": [
    "\n",
    "### 1.1.5 URLConf 주요사항"
   ],
   "metadata": {
    "collapsed": false,
    "pycharm": {
     "name": "#%% md\n"
    }
   }
  },
  {
   "cell_type": "markdown",
   "source": [
    "URL 과 뷰를 매핑해주는 urls.py 파일을 말함.\n",
    "하나의 파일에 정의할 수도 있고, 2개의 파일에 정의할 수도 있는데,\n",
    "기본적으로는 프로젝트 URL과 앱URL로 나누는 것이 일반적.\n",
    "확장성을 고려한 결과임.\n",
    "\n",
    "\n",
    "\n",
    "패턴별로 이름지정할수 있고, 네임스페이스를 지정할수도 있음.\n",
    "\n",
    "템플릿 코드에서 {% url %} 나\n",
    "\n",
    "reverse() 함수에서 해당 url 이름을 호출 가능."
   ],
   "metadata": {
    "collapsed": false,
    "pycharm": {
     "name": "#%% md\n"
    }
   }
  },
  {
   "cell_type": "markdown",
   "source": [
    "\n",
    "### 1.1.6 views.py 주요사항"
   ],
   "metadata": {
    "collapsed": false
   }
  },
  {
   "cell_type": "markdown",
   "source": [
    "뷰 로직을 코딩하는 가장 중요한 파일.\n",
    "\n",
    "클래스형 뷰가 좀 더 사용하기에 이점이 있어서 필자가 추천함.\n",
    "(Mixin을 상속받거나, 스스로 Mixin을 만들거나 해서 상속으로 넘기기 좋음.\n",
    "데코레이터를 만드는 것도 방법이긴 한데, Mixin 구현이 좀더 현명한 방법으로 보인다.)"
   ],
   "metadata": {
    "collapsed": false
   }
  },
  {
   "cell_type": "markdown",
   "source": [
    "\n",
    "### 1.1.7 templates 주요사항"
   ],
   "metadata": {
    "collapsed": false
   }
  },
  {
   "cell_type": "markdown",
   "source": [
    "화면별로 별개의 템플릿 파일이 하나씩 필요하고, 여러개 만들어둔 템플릿 파일들을 한곳에 모아두기 위한 디렉토리.\n",
    "\n",
    "프로젝트 템플릿 디렉토리와 앱 템플릿 디렉토리로 구분해서 사용중임.\n",
    "\n",
    "템플릿 검색 순서는 알아 둘것.\n",
    "\n",
    "- 프로젝트 템플릿 디렉토리\n",
    "- 앱 템플릿 디렉토리\n",
    "- INSTALLED_APPS 설정 학목에 등록된 순서대로 진행."
   ],
   "metadata": {
    "collapsed": false,
    "pycharm": {
     "name": "#%% md\n"
    }
   }
  },
  {
   "cell_type": "markdown",
   "source": [
    "\n",
    "### 1.1.8 Admin Page"
   ],
   "metadata": {
    "collapsed": false
   }
  },
  {
   "cell_type": "markdown",
   "source": [
    "- 중요. 모르던 부분임.\n",
    "\n",
    "테이블의 내용을 열람하고 수정함. 테이블에 들어 있는 콘텐츠를 편집하는 기능을 제공해줌.\n",
    "\n",
    "기본적으로 User와 Group 테이블이 포함되어 있는데, django.contrib.auth 앱이 settings.py에 등록되어 있기 때문임.\n",
    "\n",
    "\n"
   ],
   "metadata": {
    "collapsed": false,
    "pycharm": {
     "name": "#%% md\n"
    }
   }
  },
  {
   "cell_type": "markdown",
   "source": [
    "\n",
    "### 1.1.9 개발용 runserver"
   ],
   "metadata": {
    "collapsed": false
   }
  },
  {
   "cell_type": "markdown",
   "source": [
    "테스트용이긴 한데 충분히 모든 기능을 다 제공한다.\n",
    "\n",
    "다만, 처리 능력도 떨어지고 보안에도 취약하니 uWsgi 혹은 gunicorn 과 함께 Nginx 또는 Apache Http 서버를 곁들여서 사용할 것.\n",
    "\n"
   ],
   "metadata": {
    "collapsed": false,
    "pycharm": {
     "name": "#%% md\n"
    }
   }
  },
  {
   "cell_type": "markdown",
   "source": [
    "\n",
    "## 1.2 가상환경 사용하기"
   ],
   "metadata": {
    "collapsed": false
   }
  },
  {
   "cell_type": "markdown",
   "source": [
    "생략.\n",
    "\n",
    "현재 콘다를 잘 사용하고 있다. sklearn 이나, numpy 없이 파이썬을 사용하는 환경이 잘 상상이 가지 않는다.\n",
    "\n",
    "venv와 conda의 결정적인 차이는 기본적으로 깔아주는 패키지의 차이인듯 한데, 콘다가 무겁기는 해도,\n",
    "손을 덜탄다\n",
    "\n",
    "자연어 처리든 ML이든 np, sp, sklearn이 없는 파이썬 환경은 상상하기 어려우니 일단 콘다를 사용하기로.\n"
   ],
   "metadata": {
    "collapsed": false,
    "pycharm": {
     "name": "#%% md\n"
    }
   }
  }
 ],
 "metadata": {
  "kernelspec": {
   "display_name": "Python 3",
   "language": "python",
   "name": "python3"
  },
  "language_info": {
   "codemirror_mode": {
    "name": "ipython",
    "version": 2
   },
   "file_extension": ".py",
   "mimetype": "text/x-python",
   "name": "python",
   "nbconvert_exporter": "python",
   "pygments_lexer": "ipython2",
   "version": "2.7.6"
  }
 },
 "nbformat": 4,
 "nbformat_minor": 0
}