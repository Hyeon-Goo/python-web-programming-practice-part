{
 "cells": [
  {
   "cell_type": "markdown",
   "metadata": {
    "collapsed": true,
    "pycharm": {
     "name": "#%% md\n"
    }
   },
   "source": [
    "# 애플리케이샨 설정 클래스"
   ]
  },
  {
   "cell_type": "markdown",
   "source": [
    "해당 앱에 대한 메타 정보를 저장하기 위한 클래스로, django.apps.AppConfig 클래스를 상속받아 작성한다.\n",
    "\n",
    "앱 이름(name), 레이블(label), 별칭(verbose_name), 경로(path)등을 설정할 수 있고 이 중 이름은 필수 속성.\n",
    "\n",
    "디렉토리만 작성했다면 앱 내의 \\_\\_init__.py에 지정된 default_app_config을 사용.\n",
    "\n",
    "이것도 정의되어 있지 않다면 AppConfig 클래스를 설정클래스로 사용."
   ],
   "metadata": {
    "collapsed": false,
    "pycharm": {
     "name": "#%% md\n"
    }
   }
  }
 ],
 "metadata": {
  "kernelspec": {
   "display_name": "Python 3",
   "language": "python",
   "name": "python3"
  },
  "language_info": {
   "codemirror_mode": {
    "name": "ipython",
    "version": 2
   },
   "file_extension": ".py",
   "mimetype": "text/x-python",
   "name": "python",
   "nbconvert_exporter": "python",
   "pygments_lexer": "ipython2",
   "version": "2.7.6"
  }
 },
 "nbformat": 4,
 "nbformat_minor": 0
}