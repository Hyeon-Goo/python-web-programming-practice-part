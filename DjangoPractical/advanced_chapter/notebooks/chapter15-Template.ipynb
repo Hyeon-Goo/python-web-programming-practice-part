{
 "cells": [
  {
   "cell_type": "markdown",
   "metadata": {
    "collapsed": true,
    "pycharm": {
     "name": "#%% md\n"
    }
   },
   "source": [
    "# 1. 템플릿 설정 항목"
   ]
  },
  {
   "cell_type": "markdown",
   "source": [
    "장고의 코어 템플릿 엔진을 DTL 이라고 한다.\n",
    "\n",
    "DTL 이외에도 Jinja 템플릿 엔진을 기본적으로 들어가 있으며, 다른 템플릿 엔진도 설치하면 사용이 가능.\n",
    "\n",
    "settings.py 파일에서 템플릿 설정을 수정하면 템플릿 엔진과 그 옵션을 설정할 수 있음.\n",
    "\n",
    "- BACKEND : 사용할 템플릿 엔진을 지정.\n",
    "- DIRS : 프로젝트 템플릿 파일이 위치한 디렉터리를 지정.\n",
    "- APP_DIRS : 애플리케이션 내의 템플릿 티렉토리에서도 찾을지 여부. 디폴트는 False.\n",
    "- OPTIONS : 템플릿 엔진에 따라 해당하는 옵션 항목들을 설정."
   ],
   "metadata": {
    "collapsed": false,
    "pycharm": {
     "name": "#%% md\n"
    }
   }
  },
  {
   "cell_type": "markdown",
   "source": [
    "# 2. 템플릿 내부 처리 과정."
   ],
   "metadata": {
    "collapsed": false,
    "pycharm": {
     "name": "#%% md\n"
    }
   }
  },
  {
   "cell_type": "markdown",
   "source": [
    "크게 3가지 과정으로 나뉜다.\n",
    "\n",
    "1. 템플릿 설정에 따라 Engine 객체를 생성한다.\n",
    "2. 템플릿 파일 로딩 및 Template 객체를 생성한다.\n",
    "3. 렌더링을 실시해 최종 HTML 텍스트 파일을 생성한다."
   ],
   "metadata": {
    "collapsed": false,
    "pycharm": {
     "name": "#%% md\n"
    }
   }
  },
  {
   "cell_type": "markdown",
   "source": [
    "# 3. 유용한 태그들 몇개."
   ],
   "metadata": {
    "collapsed": false,
    "pycharm": {
     "name": "#%% md\n"
    }
   }
  },
  {
   "cell_type": "markdown",
   "source": [
    "- {% include 'some_file.html' %} : 코드 불러오기. extends 는 레이아웃을 불러오고, include 는 코드 전체를 삽입.\n",
    "- {% include 'some_file.html' with some_param='foo' another_param='bar' %} : include 내부에 {{ some_param }} 에 변수를 넣을 수 있음.\n",
    "- {% static 'some_image.jpg' %} : 이미지나 사진 등의 정적파일을 제공하기 위한 태그."
   ],
   "metadata": {
    "collapsed": false,
    "pycharm": {
     "name": "#%% md\n"
    }
   }
  }
 ],
 "metadata": {
  "kernelspec": {
   "display_name": "Python 3",
   "language": "python",
   "name": "python3"
  },
  "language_info": {
   "codemirror_mode": {
    "name": "ipython",
    "version": 2
   },
   "file_extension": ".py",
   "mimetype": "text/x-python",
   "name": "python",
   "nbconvert_exporter": "python",
   "pygments_lexer": "ipython2",
   "version": "2.7.6"
  }
 },
 "nbformat": 4,
 "nbformat_minor": 0
}