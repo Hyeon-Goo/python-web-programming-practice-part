{
 "cells": [
  {
   "cell_type": "markdown",
   "metadata": {
    "collapsed": true,
    "pycharm": {
     "name": "#%% md\n"
    }
   },
   "source": [
    "# 1. 제네릭 뷰 선택"
   ]
  },
  {
   "cell_type": "markdown",
   "source": [
    "클래스형 뷰는 제네릭 뷰를 상속받아서 필요한 속성과 메소드를 오버라이딩 하는 작업이 필요함.\n",
    "\n",
    "개발하고자 하는 로직에 가장 알맞은 제네릭 뷰가 무엇인지 알고 있어야 이를 선택할 수 있음."
   ],
   "metadata": {
    "collapsed": false,
    "pycharm": {
     "name": "#%% md\n"
    }
   }
  },
  {
   "cell_type": "markdown",
   "source": [
    "## 1.1. 제네릭 뷰 요약"
   ],
   "metadata": {
    "collapsed": false,
    "pycharm": {
     "name": "#%% md\n"
    }
   }
  },
  {
   "cell_type": "markdown",
   "source": [
    "- Base View\n",
    "\n",
    "    View : 가장 기본이 되는 최상위 제네릭 뷰. 다른 모든 제네릭 뷰는 View의 하위 클래스.\n",
    "\n",
    "    TemplateView : 템플릿이 주어지면 해당 템플릿을 렌더링 해주는 뷰.\n",
    "\n",
    "    RedirectView : URL이 주어지면 해당 URL로 리다이렉트 시켜주는 뷰.\n",
    "\n",
    "- Generic Display View\n",
    "\n",
    "    ListView : 조건에 맞는 여러개의 객체 리스트를 보여준다.\n",
    "\n",
    "    DetailView : 객체 하나에 대한 상세한 정보를 보여준다.\n",
    "\n",
    "- Generic Edit View\n",
    "\n",
    "    FromView : 폼이 주어지면 해당 폼을 보여준다.\n",
    "\n",
    "    CreateView : 폼을 보여주고 폼의 내용으로 DB 레코드를 신규 생성한다.\n",
    "\n",
    "    UpdateView : 폼을 보여주고 폼의 내용으로 기존 DB 레코드를 수정한다.\n",
    "\n",
    "    DeleteView : 삭제 컨펌 폼을 보여주고 기존 DB 레코드를 삭제한다.\n",
    "\n",
    "- Generic Date View\n",
    "\n",
    "    ArchiveIndexView: 조건에 맞는 여러개의 객체 및 그객체들에 대한 날짜 정보를 보여준다.\n",
    "\n",
    "    YearArchiveView, MonthArchiveView, WeekArchiveView, DayArchiveView : 년, 월, 주, 일이 주어지면 그 연도에 해당하는 객체들을 보여준다.\n",
    "\n",
    "    TodayArchiveView : 오늘 날짜에 해당하는 객체들을 보여준다.\n",
    "\n",
    "    DateDetailView : 연, 월, 일, 기본키(또는 슬러그)가 주어지면 그에 해당하는 특정 객체 하나에 대한 상세한 정보를 보여준다.\n"
   ],
   "metadata": {
    "collapsed": false,
    "pycharm": {
     "name": "#%% md\n"
    }
   }
  },
  {
   "cell_type": "markdown",
   "source": [
    "# 2. 제네릭 뷰 오버라이딩"
   ],
   "metadata": {
    "collapsed": false,
    "pycharm": {
     "name": "#%% md\n"
    }
   }
  },
  {
   "cell_type": "markdown",
   "source": [
    "적절한 뷰를 선택했다면 해당 제네릭 뷰에서 제공하는 속성과 메소드 중 무엇을 오버라이딩 해야하는지 결정해야 함.\n",
    "\n",
    "다만, 너무 많으므로 필요한 것만 정리."
   ],
   "metadata": {
    "collapsed": false,
    "pycharm": {
     "name": "#%% md\n"
    }
   }
  },
  {
   "cell_type": "markdown",
   "source": [
    "## 2.1 속성 오버라이딩"
   ],
   "metadata": {
    "collapsed": false
   }
  },
  {
   "cell_type": "markdown",
   "source": [
    "model: 작업 대상 데이터가 들어 있는 모델을 지정. model 대신 queryset 지정도 가능.\n",
    "\n",
    "queryset: 작업 대상이 되는 Queryset 객체를 생성. queryset 속성을 지정하면 model 속성은 무시됨.\n",
    "\n",
    "template_name : 템플릿 파일명은 문자로 지정.\n",
    "\n",
    "context_object_name : 템플릿 파일에서 사용할 컨텍스트 변수명을 지정.\n",
    "\n",
    "paginated_by : ListView 와 날짜 기반 뷰에서 사용. 페이징이 활성화된 경우, 페이지당 몇 개 항목을 출력할지 정수로 지정함.\n",
    "\n",
    "date_field : 날짜 기반 뷰에서 기준이 되는 필드를 지정.\n",
    "\n",
    "form_class : FormView, CreateView, UpdateView 에서 사용. 폼을 만드는데 사용할 클래스를 지정.\n",
    "\n",
    "initial : 폼에 사용할 초기 데이터를 사전으로 지정.\n",
    "\n",
    "fields : 폼에 사용할 필드를 지정.\n",
    "\n",
    "success_url: 폼에 대한 처리가 성공한 후 리다이럭트 될 URL 을 지정."
   ],
   "metadata": {
    "collapsed": false
   }
  },
  {
   "cell_type": "markdown",
   "source": [
    "## 2.2 메소드 오버라이딩"
   ],
   "metadata": {
    "collapsed": false
   }
  },
  {
   "cell_type": "markdown",
   "source": [
    "get_queryset() : 출력 객체를 검색하기 위한 대상 Queryset 또는 출력 대상인 객체 리스트를 반환.\n",
    "\n",
    "form_valid(form): get_success_url() 메소드가 반환하는 URL 로 리다이렉트를 수행. 책에서는 이렇게만 소개되지만 valid 라는 이름에 맞게 검사 항목을 넣어 줄 것.\n",
    "\n",
    "get_context_data(**kwargs): 템플릿에서 사용할 컨텍스트 데이터를 반환."
   ],
   "metadata": {
    "collapsed": false
   }
  },
  {
   "cell_type": "markdown",
   "source": [
    "# 3. 제네릭 뷰의 처리 흐름"
   ],
   "metadata": {
    "collapsed": false
   }
  },
  {
   "cell_type": "markdown",
   "source": [
    "## 3.1. ListView"
   ],
   "metadata": {
    "collapsed": false
   }
  },
  {
   "cell_type": "markdown",
   "source": [
    "1. setup() : 공통으로 사용할 속성들을 미리 정의하는 메소드. 기본적으로 self.request, self.args, self.kwargs 는 미리 정의되고, 그 외 추가할 것이 있으면 오버라이딩\n",
    "\n",
    "2. dispatch() : HTTP 메소드를 검사해 뷰 클래스에 정의된 적절한 처리 메소드를 호출.\n",
    "\n",
    "3. http_method_not_allowed() : dispatch() 검사 시의 예외 처리.\n",
    "\n",
    "4. get() : 메인 처리 메소드.\n",
    "\n",
    "5. get_queryset() : 작업 대상 객체들의 리스트를 반환.\n",
    "\n",
    "6. get_context_data() : 템플릿에서 사용할 컨텍스트 데이터를 반환. 중간에 get_context_object_name() 메소드를 호출.\n",
    "\n",
    "7. get_context_object_name() : 템플릿에서 사용할 컨텍스트 변수명을 반환.\n",
    "\n",
    "8. render_to_response() : 최종 응답인 self.response_class 객체를 반환. 중간에 get_template_names() 메소드를 호출.\n",
    "\n",
    "9. get_template_names() : 템플릿 파일명을 담은 리스트를 반환."
   ],
   "metadata": {
    "collapsed": false
   }
  },
  {
   "cell_type": "markdown",
   "source": [
    "## 3.2. DetailView"
   ],
   "metadata": {
    "collapsed": false
   }
  },
  {
   "cell_type": "markdown",
   "source": [
    "1. setup() : 공통으로 사용할 속성들을 미리 정의하는 메소드. 기본적으로 self.request, self.args, self.kwargs 는 미리 정의되고, 그 외 추가할 것이 있으면 오버라이딩\n",
    "\n",
    "2. dispatch() : HTTP 메소드를 검사해 뷰 클래스에 정의된 적절한 처리 메소드를 호출.\n",
    "\n",
    "3. http_method_not_allowed() : dispatch() 검사 시의 예외 처리.\n",
    "\n",
    "4. get() : 메인 처리 메소드.\n",
    "\n",
    "※※※ 5. get_object() : 작업 대상 객체를 하나 반환. get_queryset() 메소드를 호출하는데, pk로 먼저 시도하고, pk가 없으면 slug 로 시도.\n",
    "\n",
    "6. get_queryset() : 작업 대상 객체들의 리스트를 반환.\n",
    "\n",
    "7. get_context_data() : 템플릿에서 사용할 컨텍스트 데이터를 반환. 중간에 get_context_object_name() 메소드를 호출.\n",
    "\n",
    "8. get_context_object_name() : 템플릿에서 사용할 컨텍스트 변수명을 반환.\n",
    "\n",
    "9. render_to_response() : 최종 응답인 self.response_class 객체를 반환. 중간에 get_template_names() 메소드를 호출.\n",
    "\n",
    "10. get_template_names() : 템플릿 파일명을 담은 리스트를 반환."
   ],
   "metadata": {
    "collapsed": false
   }
  },
  {
   "cell_type": "markdown",
   "source": [
    "# 4. MRO"
   ],
   "metadata": {
    "collapsed": false
   }
  },
  {
   "cell_type": "markdown",
   "source": [
    "파이썬은 다중 상속이 가능한 언어. 제네릭 뷰에서도 다중 상속을 사용한다.\n",
    "\n",
    "이때, 동일한 이름을 가진 메소드가 둘 이상의 부모 클래스에 존재할 경우 어느 메소드를 먼저 사용해야 할지 결정하는 알고리즘이 필요한데, 이런 문제를 해결하기 위해서 파이썬 에서는 클래스마다 메소드를 찾는 순서를 정한 Method Resolution Order 속성을 제공한다.\n",
    "\n",
    "장고의 제네릭 뷰를 사용하는 경우 MRO 문제로 어려움을 겪는 경우는 많지 않지만, 제네릭 뷰 설계 시 각 클래스 간에 메소드 이름이 중복되지 않도록 설계되었기 때문이다.\n",
    "\n",
    "하지만 개발자가 직접 작성한 클래스(CustomMixin)을 사용하는 경우 문제가 될 수도 있음.\n",
    "\n",
    "파이썬의 모든 객체에는 \\_\\_mro__() 메소드가 정의되어 있고, 이를 통해서 그 순서를 확인할 수 있음."
   ],
   "metadata": {
    "collapsed": false
   }
  },
  {
   "cell_type": "markdown",
   "source": [
    "※※ Mixin Class\n",
    "\n",
    "다른 클래스에게 부가 기능을 제공하기 위한 용도로 사용되는 클래스.\n",
    "\n",
    "꼭 필요한 단위 기능들을 믹스인 클래스로 만들고 제네릭 뷰에서 이런 믹스인 클래스들을 상속받는 방식으로 제네릭 뷰를 설계."
   ],
   "metadata": {
    "collapsed": false
   }
  },
  {
   "cell_type": "markdown",
   "source": [
    "# 5. 제네릭 뷰의 페이징 처리"
   ],
   "metadata": {
    "collapsed": false
   }
  },
  {
   "cell_type": "markdown",
   "source": [
    "객체의 리스트를 처리하는 제네릭 뷰는 paginate_by 속성을 가짐.\n",
    "\n",
    "이런 제네릭 뷰에 paginate_by 속성이 지정되면 장고의 페이징 기능이 활성화 되고, 객체 리스트는 페이지별로 구분되어 보이게 됨.\n",
    "\n",
    "\n",
    "- MultipleObjectMixin\n",
    "\n",
    "    paginate_by 메소드는 MultipleObjectMixin 클래스 안에 정의되어 있고, 이 클래스를 상속받으면 모두 paginate_by 를 사용할 수 있음.\n",
    "\n",
    "\n",
    "페이징 기능이 활성화되면 객체 리스트는 몇 개의 페이지로 나뉘고, 페이지 번호를 지정함으로써 해당 페이지를 화면에 표시할 수 있게 된다.\n",
    "\n",
    "path('objects/page<int:page >', PaginatedView()),\n",
    "\n",
    "위와 같이 경로에 페이지 번호를 추출해서 뷰에 넘겨주는 방법도 있고, get 쿼리 문자열에 page 번호를 지정할 수도 있음.\n",
    "\n",
    "page 파라미터는 이름이 정해져 있고, 이를 바꾸려면 뷰에 page_kwarg 속성으로 알려줘야 함."
   ],
   "metadata": {
    "collapsed": false
   }
  },
  {
   "cell_type": "markdown",
   "source": [
    "# 6. 단축 함수."
   ],
   "metadata": {
    "collapsed": false,
    "pycharm": {
     "name": "#%% md\n"
    }
   }
  },
  {
   "cell_type": "markdown",
   "source": [
    "render_to_response(template_name, context=None, content_type=None, status=None, using=None) : 템플릿 파일과 컨텍스트 사전을 인자로 받아 렌더링 차리한 후 HttpResponse 객체를 반환하는 함수.\n",
    "\n",
    "render(request, template_name, context-None, content_type=None, status=None, using=None) : 템플릿 파일과 컨텍스트 사전을 인자로 받아 렌더링 처리한 후 HttpResponse 객체를 반환하는 함수.\n",
    "\n",
    "redirect(to, *args, permanent=False, **kwargs) : to 인수로 주어진 URL 로 이동하기 위한 HttpResponseRedirect 객체를 반환.\n",
    "\n",
    "get_object_or_404(klass, *args, **kwargs) : klass 는 오타가 아니다. klass 모델에 해당하는 테이블에서 args 나 kwargs 에 맞는 레코드를 검색. 없으면 Http404 익셉션을 발생 시킴.\n",
    "\n",
    "get_list_or_404(klass, *args, **kwargs): klass 모델에 해당하는 테이블에서 args 또는 kwargs 조건에 맞는 레코드들을 검색. 있으면 리스트를 반환하고 없으면 Http404 익셉션을 발생시킴.\n"
   ],
   "metadata": {
    "collapsed": false
   }
  },
  {
   "cell_type": "markdown",
   "source": [],
   "metadata": {
    "collapsed": false
   }
  },
  {
   "cell_type": "markdown",
   "source": [],
   "metadata": {
    "collapsed": false
   }
  },
  {
   "cell_type": "markdown",
   "source": [],
   "metadata": {
    "collapsed": false
   }
  },
  {
   "cell_type": "markdown",
   "source": [],
   "metadata": {
    "collapsed": false
   }
  },
  {
   "cell_type": "markdown",
   "source": [],
   "metadata": {
    "collapsed": false
   }
  },
  {
   "cell_type": "markdown",
   "source": [],
   "metadata": {
    "collapsed": false
   }
  },
  {
   "cell_type": "markdown",
   "source": [],
   "metadata": {
    "collapsed": false
   }
  },
  {
   "cell_type": "markdown",
   "source": [],
   "metadata": {
    "collapsed": false
   }
  }
 ],
 "metadata": {
  "kernelspec": {
   "display_name": "Python 3",
   "language": "python",
   "name": "python3"
  },
  "language_info": {
   "codemirror_mode": {
    "name": "ipython",
    "version": 2
   },
   "file_extension": ".py",
   "mimetype": "text/x-python",
   "name": "python",
   "nbconvert_exporter": "python",
   "pygments_lexer": "ipython2",
   "version": "2.7.6"
  }
 },
 "nbformat": 4,
 "nbformat_minor": 0
}