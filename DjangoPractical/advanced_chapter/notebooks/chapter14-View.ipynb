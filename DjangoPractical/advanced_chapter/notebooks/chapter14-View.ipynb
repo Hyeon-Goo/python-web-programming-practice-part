{
 "cells": [
  {
   "cell_type": "markdown",
   "metadata": {
    "collapsed": true,
    "pycharm": {
     "name": "#%% md\n"
    }
   },
   "source": [
    "# 1. 제네릭 뷰 선택"
   ]
  },
  {
   "cell_type": "markdown",
   "source": [
    "클래스형 뷰는 제네릭 뷰를 상속받아서 필요한 속성과 메소드를 오버라이딩 하는 작업이 필요함.\n",
    "\n",
    "개발하고자 하는 로직에 가장 알맞은 제네릭 뷰가 무엇인지 알고 있어야 이를 선택할 수 있음."
   ],
   "metadata": {
    "collapsed": false,
    "pycharm": {
     "name": "#%% md\n"
    }
   }
  },
  {
   "cell_type": "markdown",
   "source": [
    "## 1.1. 제네릭 뷰 요약"
   ],
   "metadata": {
    "collapsed": false,
    "pycharm": {
     "name": "#%% md\n"
    }
   }
  },
  {
   "cell_type": "markdown",
   "source": [
    "- Base View\n",
    "\n",
    "    View : 가장 기본이 되는 최상위 제네릭 뷰. 다른 모든 제네릭 뷰는 View의 하위 클래스.\n",
    "\n",
    "    TemplateView : 템플릿이 주어지면 해당 템플릿을 렌더링 해주는 뷰.\n",
    "\n",
    "    RedirectView : URL이 주어지면 해당 URL로 리다이렉트 시켜주는 뷰.\n",
    "\n",
    "- Generic Display View\n",
    "\n",
    "    ListView : 조건에 맞는 여러개의 객체 리스트를 보여준다.\n",
    "\n",
    "    DetailView : 객체 하나에 대한 상세한 정보를 보여준다.\n",
    "\n",
    "- Generic Edit View\n",
    "\n",
    "    FromView : 폼이 주어지면 해당 폼을 보여준다.\n",
    "\n",
    "    CreateView : 폼을 보여주고 폼의 내용으로 DB 레코드를 신규 생성한다.\n",
    "\n",
    "    UpdateView : 폼을 보여주고 폼의 내용으로 기존 DB 레코드를 수정한다.\n",
    "\n",
    "    DeleteView : 삭제 컨펌 폼을 보여주고 기존 DB 레코드를 삭제한다.\n",
    "\n",
    "- Generic Date View\n",
    "\n",
    "    ArchiveIndexView: 조건에 맞는 여러개의 객체 및 그객체들에 대한 날짜 정보를 보여준다.\n",
    "\n",
    "    YearArchiveView, MonthArchiveView, WeekArchiveView, DayArchiveView : 년, 월, 주, 일이 주어지면 그 연도에 해당하는 객체들을 보여준다.\n",
    "\n",
    "    TodayArchiveView : 오늘 날짜에 해당하는 객체들을 보여준다.\n",
    "\n",
    "    DateDetailView : 연, 월, 일, 기본키(또는 슬러그)가 주어지면 그에 해당하는 특정 객체 하나에 대한 상세한 정보를 보여준다.\n"
   ],
   "metadata": {
    "collapsed": false,
    "pycharm": {
     "name": "#%% md\n"
    }
   }
  },
  {
   "cell_type": "markdown",
   "source": [
    "# 2. 제네릭 뷰 오버라이딩"
   ],
   "metadata": {
    "collapsed": false,
    "pycharm": {
     "name": "#%% md\n"
    }
   }
  },
  {
   "cell_type": "markdown",
   "source": [
    "적절한 뷰를 선택했다면 해당 제네릭 뷰에서 제공하는 속성과 메소드 중 무엇을 오버라이딩 해야하는지 결정해야 함.\n",
    "\n",
    "다만, 너무 많으므로 필요한 것만 정리."
   ],
   "metadata": {
    "collapsed": false,
    "pycharm": {
     "name": "#%% md\n"
    }
   }
  },
  {
   "cell_type": "markdown",
   "source": [
    "## 2.1 속성 오버라이딩"
   ],
   "metadata": {
    "collapsed": false
   }
  },
  {
   "cell_type": "markdown",
   "source": [
    "model: 작업 대상 데이터가 들어 있는 모델을 지정. model 대신 queryset 지정도 가능.\n",
    "\n",
    "queryset: 작업 대상이 되는 Queryset 객체를 생성. queryset 속성을 지정하면 model 속성은 무시됨.\n",
    "\n",
    "template_name : 템플릿 파일명은 문자로 지정.\n",
    "\n",
    "context_object_name : 템플릿 파일에서 사용할 컨텍스트 변수명을 지정.\n",
    "\n",
    "paginated_by : ListView 와 날짜 기반 뷰에서 사용. 페이징이 활성화된 경우, 페이지당 몇 개 항목을 출력할지 정수로 지정함.\n",
    "\n",
    "date_field : 날짜 기반 뷰에서 기준이 되는 필드를 지정.\n",
    "\n",
    "form_class : FormView, CreateView, UpdateView 에서 사용. 폼을 만드는데 사용할 클래스를 지정.\n",
    "\n",
    "initial : 폼에 사용할 초기 데이터를 사전으로 지정.\n",
    "\n",
    "fields : 폼에 사용할 필드를 지정.\n",
    "\n",
    "success_url: 폼에 대한 처리가 성공한 후 리다이럭트 될 URL 을 지정."
   ],
   "metadata": {
    "collapsed": false
   }
  },
  {
   "cell_type": "markdown",
   "source": [
    "## 2.2 메소드 오버라이딩"
   ],
   "metadata": {
    "collapsed": false
   }
  },
  {
   "cell_type": "markdown",
   "source": [
    "get_queryset() : 출력 객체를 검색하기 위한 대상 Queryset 또는 출력 대상인 객체 리스트를 반환.\n",
    "\n",
    "form_valid(form): get_success_url() 메소드가 반환하는 URL 로 리다이렉트를 수행. 책에서는 이렇게만 소개되지만 valid 라는 이름에 맞게 검사 항목을 넣어 줄 것.\n",
    "\n",
    "get_context_data(**kwargs): 템플릿에서 사용할 컨텍스트 데이터를 반환."
   ],
   "metadata": {
    "collapsed": false
   }
  },
  {
   "cell_type": "markdown",
   "source": [
    "# 3. 제네릭 뷰의 처리 흐름"
   ],
   "metadata": {
    "collapsed": false
   }
  },
  {
   "cell_type": "markdown",
   "source": [],
   "metadata": {
    "collapsed": false
   }
  },
  {
   "cell_type": "markdown",
   "source": [],
   "metadata": {
    "collapsed": false
   }
  },
  {
   "cell_type": "markdown",
   "source": [],
   "metadata": {
    "collapsed": false
   }
  },
  {
   "cell_type": "markdown",
   "source": [],
   "metadata": {
    "collapsed": false
   }
  },
  {
   "cell_type": "markdown",
   "source": [],
   "metadata": {
    "collapsed": false
   }
  },
  {
   "cell_type": "markdown",
   "source": [],
   "metadata": {
    "collapsed": false
   }
  },
  {
   "cell_type": "markdown",
   "source": [],
   "metadata": {
    "collapsed": false
   }
  },
  {
   "cell_type": "markdown",
   "source": [],
   "metadata": {
    "collapsed": false
   }
  },
  {
   "cell_type": "markdown",
   "source": [],
   "metadata": {
    "collapsed": false
   }
  },
  {
   "cell_type": "markdown",
   "source": [],
   "metadata": {
    "collapsed": false,
    "pycharm": {
     "name": "#%% md\n"
    }
   }
  }
 ],
 "metadata": {
  "kernelspec": {
   "display_name": "Python 3",
   "language": "python",
   "name": "python3"
  },
  "language_info": {
   "codemirror_mode": {
    "name": "ipython",
    "version": 2
   },
   "file_extension": ".py",
   "mimetype": "text/x-python",
   "name": "python",
   "nbconvert_exporter": "python",
   "pygments_lexer": "ipython2",
   "version": "2.7.6"
  }
 },
 "nbformat": 4,
 "nbformat_minor": 0
}