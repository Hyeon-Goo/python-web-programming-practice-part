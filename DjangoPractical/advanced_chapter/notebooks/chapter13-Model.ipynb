{
 "cells": [
  {
   "cell_type": "markdown",
   "source": [
    "# 1, 모델 정의"
   ],
   "metadata": {
    "collapsed": false,
    "pycharm": {
     "name": "#%% md\n"
    }
   }
  },
  {
   "cell_type": "markdown",
   "source": [
    "테이블에 관련된 속성과 메소드를 사용할 수 있음. ORM 에 정의되어 있는 것들도 있고, 커스텀할수도 있음.\n",
    "관련된 속성과 메소드를 알아보는 시간."
   ],
   "metadata": {
    "collapsed": false,
    "pycharm": {
     "name": "#%% md\n"
    }
   }
  },
  {
   "cell_type": "markdown",
   "source": [
    "## 1.1. 모델 속성"
   ],
   "metadata": {
    "collapsed": false,
    "pycharm": {
     "name": "#%% md\n"
    }
   }
  },
  {
   "cell_type": "markdown",
   "source": [
    "기본적으로 장고의 테이블 컬럼은 모델 클래스의 속성으로 정의함.\n",
    "\n",
    "모델 클래스 중에서 모델 필드는 가장 중요한 속성이고, 필수.\n",
    "\n",
    "※ 커스텀 필드 타입:\n",
    "\n",
    "    장고는 테이블의 컬럼을 표현하기 위해 Field 추상 클래스를 제공하고, 대부분의 필드 타입은 Field를 상속받아 정의하고 있음.\n",
    "    개발자가 임의로 Field 추상 클래스를 상속받아 새로운 필드 타입을 정의하는 것도 가능한데, chapter9의 ThumbnailImagefield가 그 예시."
   ],
   "metadata": {
    "collapsed": false,
    "pycharm": {
     "name": "#%% md\n"
    }
   }
  },
  {
   "cell_type": "markdown",
   "source": [
    "## 1.2. 모델 메소드"
   ],
   "metadata": {
    "collapsed": false
   }
  },
  {
   "cell_type": "markdown",
   "source": [
    "클래스 메소드와 객체 메소드는 반드시 구분해야하는데, 동작의 방식이 다름.\n",
    "테이블 레벨 = 클래스 메소드\n",
    "레코드 레벨 = 객체 메소드\n",
    "\n",
    "self 인자를 가진 객체 메소드는 레코드 단위에만 영향을 미침.\n",
    "클래스 메소드는 장고에서는 사용하지 않고, 별도의 Manager 클래스를 정의하고, manager 클래스의 메소드를 통해서 테이블에 대해 동작을 수행.\n",
    "(위 내용은 3.1. 에서 다룬다.)"
   ],
   "metadata": {
    "collapsed": false
   }
  },
  {
   "cell_type": "markdown",
   "source": [
    "\\_\\_str()__ 의 경우는 여러사람과 일할때 반드시 오버라이딩 해주는 것을 추천.\n",
    "\n",
    "get_absolute_url() 메소드는 DetailView와 매핑된 URL을 반환.\n",
    "\n",
    "get_next_by_XXX(**kwargs)\n",
    "\n",
    "get_previous_by_XXX(**kwargs)\n",
    "\n",
    "필드 타입이 DateField 이거나 DateTimeField 이면 사용가능한 메소드. XXX는 필드이름. 시간 기준으로 다음 객체, 이전 객체를 반환하고, 없는 경우에는 DoesNotExistException이 뜸."
   ],
   "metadata": {
    "collapsed": false,
    "pycharm": {
     "name": "#%% md\n"
    }
   }
  },
  {
   "cell_type": "markdown",
   "source": [
    "## 1.3. 메타 내부 클래스 속성"
   ],
   "metadata": {
    "collapsed": false
   }
  },
  {
   "cell_type": "markdown",
   "source": [
    "모델에 대한 메타 데이터를 정의할 수 있는데, 테이블 명, 순서 등등을 지정할 수 있음.\n",
    "\n",
    "ordering : 리스트 출력시 정렬하기 위해 사용하는 필드명을 지정함. 필드명의 앞에 \"-\"를 붙이면 역순으로 가능. 리스트 형태로 필드명을 지정하게 되는데, 앞에 있는 것부터 정렬한 그 다음 뒤에 것을 정렬한다.\n",
    "\n",
    "db_table : 저장되는 테이블 이름을 지정. 지정하지 않으면 앱명_클래스명 을 테이블명으로 지정하게됨.\n",
    "\n",
    "verbose_name = 사용자가 이해하기 쉬운 모델 객체의 별칭.\n",
    "\n",
    "verbose_name_plural = verbose_name에 대한 복수 명칭을 지정. 지정하지 않으면 verbose_name + \"s\" 가 사용된다."
   ],
   "metadata": {
    "collapsed": false,
    "pycharm": {
     "name": "#%% md\n"
    }
   }
  },
  {
   "cell_type": "markdown",
   "source": [
    "## 1.4 매니저 속성"
   ],
   "metadata": {
    "collapsed": false,
    "pycharm": {
     "name": "#%% md\n"
    }
   }
  },
  {
   "cell_type": "markdown",
   "source": [
    "테이블의 컬럼으로 매핑되지 않는 속성이 하나 있고, 그게 Manager 속성.\n",
    "모델 클래스를 통해서만 액세스 할 수 있고, 객체를 통해서는 불가능하다.\n",
    "\n",
    "Manager 클래스는 쿼리가 이루어지는 핵심. 쿼리셋 객체를 반환한 다음 실제 데이터를 호출할때 DB에 질의함."
   ],
   "metadata": {
    "collapsed": false,
    "pycharm": {
     "name": "#%% md\n"
    }
   }
  },
  {
   "cell_type": "markdown",
   "source": [
    "# 2. 모델간 관계"
   ],
   "metadata": {
    "collapsed": false,
    "pycharm": {
     "name": "#%% md\n"
    }
   }
  },
  {
   "cell_type": "markdown",
   "source": [
    "대충 1:N 이니 N:N이니 하는 그것들. 관계형 DB를 쓸때는 거의 반드시 사용하는 것들.\n",
    "\n",
    "1. 관계는 양방향 개념이므로 양쪽 모델에서 정의가 필요한 것이 원칙. but 장고에서는 상대편 정의는 자동으로 정의해줌.\n",
    "2. 한쪽 방향으로 관계를 생성하거나 변경하면 반대 방향으로의 관계도 그에 따라 변함. 장고에서 알아서 처리해주는 동작이나 잘 이해하고 있어야함."
   ],
   "metadata": {
    "collapsed": false,
    "pycharm": {
     "name": "#%% md\n"
    }
   }
  },
  {
   "cell_type": "markdown",
   "source": [
    "## 2.1. 1:N 관계"
   ],
   "metadata": {
    "collapsed": false
   }
  },
  {
   "cell_type": "markdown",
   "source": [
    "ForeignKey 필드 타입을 사용하는 기본적인 관계.\n",
    "\n",
    "ForeignKey 는 필수 인자로 모델 클래스를 받아야 함."
   ],
   "metadata": {
    "collapsed": false
   }
  },
  {
   "cell_type": "markdown",
   "source": [
    "## 2.2. N:N 관계"
   ],
   "metadata": {
    "collapsed": false
   }
  },
  {
   "cell_type": "markdown",
   "source": [
    "ManyToManyField 필드 타입을 사용하는 기본적인 관계.\n",
    "\n",
    "ManyToManyField 는 필수 인자로 모델 클래스를 받아야 함.\n",
    "\n",
    "한쪽만 지정해야하고, 양쪽다 지정하면 안됨.(순환 참조 오류가 뜰 것이 분명함.)"
   ],
   "metadata": {
    "collapsed": false
   }
  },
  {
   "cell_type": "markdown",
   "source": [
    "## 2.3. 1:1 관계"
   ],
   "metadata": {
    "collapsed": false,
    "pycharm": {
     "name": "#%% md\n"
    }
   }
  },
  {
   "cell_type": "markdown",
   "source": [
    "OneToOneField 필드 타입을 사용하는 기본적인 관계.\n",
    "\n",
    "OneToOneField 는 필수 인자로 모델 클래스를 받아야 함.\n",
    "\n",
    "한쪽만 지정해야하고, 양쪽다 지정하면 안됨.(순환 참조 오류가 뜰 것이 분명함.)\n"
   ],
   "metadata": {
    "collapsed": false,
    "pycharm": {
     "name": "#%% md\n"
    }
   }
  },
  {
   "cell_type": "markdown",
   "source": [
    "# 3. 관계 매니저"
   ],
   "metadata": {
    "collapsed": false,
    "pycharm": {
     "name": "#%% md\n"
    }
   }
  },
  {
   "cell_type": "markdown",
   "source": [
    "DB에 쿼리를 보내고 그 응답을 받는 역할을 함.\n",
    "\n",
    "1:N, N:N 에서는 관계 매니저를 사용하지만, 1:1관계에서는 관계매니저를 사용하지 않음.\n",
    "1:N 에서도, N에서 1의 방향으로 사용하면 관계 매니저는 필요가 없음.\n",
    "\n",
    "관계 매니저가 제공하는 메서드는 여러가지가 있지만, 일단 몇가지만 나열.\n",
    "\n",
    "add()\n",
    "\n",
    "create()\n",
    "\n",
    "remove()\n",
    "\n",
    "clear()\n",
    "\n",
    "set()\n",
    "\n",
    "filter()\n",
    "\n",
    "get()\n",
    "\n",
    "등등 여러가지 방법이 가능하다."
   ],
   "metadata": {
    "collapsed": false,
    "pycharm": {
     "name": "#%% md\n"
    }
   }
  }
 ],
 "metadata": {
  "kernelspec": {
   "display_name": "Python 3",
   "language": "python",
   "name": "python3"
  },
  "language_info": {
   "codemirror_mode": {
    "name": "ipython",
    "version": 2
   },
   "file_extension": ".py",
   "mimetype": "text/x-python",
   "name": "python",
   "nbconvert_exporter": "python",
   "pygments_lexer": "ipython2",
   "version": "2.7.6"
  }
 },
 "nbformat": 4,
 "nbformat_minor": 0
}